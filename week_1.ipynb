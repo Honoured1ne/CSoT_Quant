{
 "cells": [
  {
   "cell_type": "markdown",
   "id": "a09df05a",
   "metadata": {},
   "source": [
    "This function will take in tickers array and make a MultiIndexed pandas dataframe with date as datetime and arranges from latest to earliest for last 'filter' years, woth default value being 10 years"
   ]
  },
  {
   "cell_type": "code",
   "execution_count": 89,
   "id": "2f15ed6d",
   "metadata": {},
   "outputs": [],
   "source": [
    "import pandas as pd\n",
    "import numpy as np\n",
    "import matplotlib.pyplot as plt\n",
    "def load_data(tickers,filter=10):\n",
    "    dataframes=[]\n",
    "    for ticker in tickers:\n",
    "        df=pd.read_csv(f'{ticker}.us.txt')\n",
    "        df[\"TICKER\"]=ticker.upper()\n",
    "        dataframes.append(df)\n",
    "    df_new=pd.concat(dataframes)  \n",
    "    df_new['Date']=pd.to_datetime(df_new['Date'])\n",
    "    df_new.set_index(['TICKER','Date'], inplace=True)\n",
    "    df_new.sort_index(ascending=[True,False],inplace=True)\n",
    "    latest_date=df_new.index.get_level_values('Date').max()\n",
    "    cutoff_date=latest_date - pd.Timedelta(days=365*filter)\n",
    "    df_new=df_new[df_new.index.get_level_values('Date') >= cutoff_date]\n",
    "    return df_new\n",
    "\n"
   ]
  },
  {
   "cell_type": "markdown",
   "id": "2ed553ab",
   "metadata": {},
   "source": [
    "Now we check if there are any null values in any column, if there aren't, filling is not required. Function parameter is dataframe"
   ]
  },
  {
   "cell_type": "code",
   "execution_count": 90,
   "id": "45e335dd",
   "metadata": {},
   "outputs": [],
   "source": [
    "def check_null(df):\n",
    "    nulls = df.isnull().sum()\n",
    "    nulls = nulls[nulls > 0]\n",
    "    if nulls.empty:\n",
    "        print(\"No null values found.\")\n",
    "    else:\n",
    "        print(\"Null values found in the following columns:\")\n",
    "        print(nulls)\n",
    "        # plt.figure(figsize=(10, 6))\n",
    "        # nulls.plot(kind='bar')\n",
    "        # plt.title('Null Values in DataFrame')\n",
    "        # plt.xlabel('Columns')\n",
    "        # plt.ylabel('Number of Nulls')\n",
    "        # plt.show()\n",
    "    return None"
   ]
  },
  {
   "cell_type": "markdown",
   "id": "776a6b7d",
   "metadata": {},
   "source": [
    "This is a fxn to remove all zero columns from dataframe"
   ]
  },
  {
   "cell_type": "code",
   "execution_count": 91,
   "id": "096175d8",
   "metadata": {},
   "outputs": [],
   "source": [
    "def zero_columns(df):\n",
    "    zero_columns=(df==0).all()\n",
    "    zero_columns = zero_columns[zero_columns]\n",
    "    print(zero_columns.index.tolist())\n",
    "    return zero_columns.index.tolist()\n",
    "\n",
    "def rem_col(name,df):\n",
    "    df.drop(columns=[name], inplace=True)\n",
    "    return df"
   ]
  },
  {
   "cell_type": "markdown",
   "id": "a88ecb76",
   "metadata": {},
   "source": [
    "Now we add the desired columns. Note that dates should be in earliest to latest otherwise stock would look into future"
   ]
  },
  {
   "cell_type": "code",
   "execution_count": 92,
   "id": "10fc0c14",
   "metadata": {},
   "outputs": [],
   "source": [
    "def add_dailyReturn (df):\n",
    "    df.sort_index(ascending=[True,True],inplace=True)\n",
    "    df['Daily_Return']= df.groupby(level='TICKER')['Close'].pct_change()\n",
    "    df.sort_index(ascending=[True,False],inplace=True)\n",
    "    return df\n",
    "\n",
    "def add_7day_avg(df):\n",
    "    df.sort_index(ascending=[True,True],inplace=True)\n",
    "    df['7_day_avg'] = df.groupby(level='TICKER')['Close'].transform(lambda x: x.rolling(window=7).mean())\n",
    "    df.sort_index(ascending=[True,False],inplace=True)\n",
    "    return df\n",
    "\n",
    "def add_30day_avg(df):\n",
    "    df.sort_index(ascending=[True,True],inplace=True)\n",
    "    df['30_day_avg'] = df.groupby(level='TICKER')['Close'].transform(lambda x: x.rolling(window=30).mean())\n",
    "    df.sort_index(ascending=[True,False],inplace=True)\n",
    "    return df\n",
    "\n",
    "def add_30dayRollingVolatitility(df):\n",
    "    df.sort_index(ascending=[True,True],inplace=True)\n",
    "    df['30_day_rolling_volatility'] = df.groupby(level='TICKER')['Close'].transform(lambda x: x.pct_change().rolling(window=30).std())\n",
    "    df.sort_index(ascending=[True,False],inplace=True)\n",
    "    return df\n",
    "\n"
   ]
  },
  {
   "cell_type": "markdown",
   "id": "6e630d5c",
   "metadata": {},
   "source": [
    "For exploratory analysis, we define some functions for avg_returns which is mean of Daily_Return column (should be added before using this fxn). Also note that this function output is fractional avg return and volatility, for percentage, multiply by 100."
   ]
  },
  {
   "cell_type": "code",
   "execution_count": 93,
   "id": "10be35c2",
   "metadata": {},
   "outputs": [],
   "source": [
    "def highestAvgReturn(df):\n",
    "    avg_returns=df.groupby(level='TICKER')['Daily_Return'].mean()\n",
    "    highest_avg_return_stock = avg_returns.idxmax()\n",
    "    highest_avg_return_value = avg_returns.max()\n",
    "    print(avg_returns)\n",
    "    print(f\"Highest average return stock: {highest_avg_return_stock} with avg return of {highest_avg_return_value:.4f} or {highest_avg_return_value*100:.2f}%\")\n",
    "\n",
    "def highestVolatility(df):\n",
    "    df_reset=df.reset_index()\n",
    "    df_reset[\"YearMonth\"] = df_reset[\"Date\"].dt.to_period(\"M\")\n",
    "    monthly_vol=df_reset.groupby(['TICKER', 'YearMonth'])['30_day_rolling_volatility'].mean()\n",
    "    \n",
    "    most_volatile = monthly_vol.idxmax()\n",
    "    volatility_value = monthly_vol.max()\n",
    "    print(f\"Most volatile stock: {most_volatile[0]} in {most_volatile[1]} with volatility of {volatility_value:.4f} or {volatility_value*100:.2f}%\") \n",
    "    # return monthly_vol\n",
    "\n",
    "\n",
    "\n",
    "\n",
    "\n",
    "\n"
   ]
  },
  {
   "cell_type": "markdown",
   "id": "6c97aee8",
   "metadata": {},
   "source": [
    "Now we import the dataset and apply our functions"
   ]
  },
  {
   "cell_type": "code",
   "execution_count": 94,
   "id": "8dd3fb9e",
   "metadata": {},
   "outputs": [
    {
     "name": "stdout",
     "output_type": "stream",
     "text": [
      "                     Open    High     Low   Close    Volume  OpenInt\n",
      "TICKER Date                                                         \n",
      "AAPL   2017-11-10  175.11  175.38  174.27  174.67  25130494        0\n",
      "       2017-11-09  174.48  175.46  172.52  175.25  29533086        0\n",
      "       2017-11-08  174.03  175.61  173.71  175.61  24451166        0\n",
      "       2017-11-07  173.29  174.51  173.29  174.18  24424877        0\n",
      "       2017-11-06  171.75  174.36  171.10  173.63  34901241        0\n"
     ]
    }
   ],
   "source": [
    "tickers=['aapl','brk-b','googl','msft','nvda','tsla']\n",
    "df=load_data(tickers)\n",
    "print(df.head())"
   ]
  },
  {
   "cell_type": "code",
   "execution_count": 95,
   "id": "7f97139f",
   "metadata": {},
   "outputs": [
    {
     "name": "stdout",
     "output_type": "stream",
     "text": [
      "No null values found.\n"
     ]
    }
   ],
   "source": [
    "check_null(df)"
   ]
  },
  {
   "cell_type": "code",
   "execution_count": 96,
   "id": "931fbe47",
   "metadata": {},
   "outputs": [
    {
     "name": "stdout",
     "output_type": "stream",
     "text": [
      "['OpenInt']\n"
     ]
    },
    {
     "data": {
      "text/plain": [
       "['OpenInt']"
      ]
     },
     "execution_count": 96,
     "metadata": {},
     "output_type": "execute_result"
    }
   ],
   "source": [
    "zero_columns(df)"
   ]
  },
  {
   "cell_type": "markdown",
   "id": "c9197e10",
   "metadata": {},
   "source": [
    "Only 'OpenInt' column is zero columns, we can remove it safely"
   ]
  },
  {
   "cell_type": "code",
   "execution_count": 97,
   "id": "443ec876",
   "metadata": {},
   "outputs": [
    {
     "name": "stdout",
     "output_type": "stream",
     "text": [
      "                     Open    High     Low   Close    Volume\n",
      "TICKER Date                                                \n",
      "AAPL   2017-11-10  175.11  175.38  174.27  174.67  25130494\n",
      "       2017-11-09  174.48  175.46  172.52  175.25  29533086\n",
      "       2017-11-08  174.03  175.61  173.71  175.61  24451166\n",
      "       2017-11-07  173.29  174.51  173.29  174.18  24424877\n",
      "       2017-11-06  171.75  174.36  171.10  173.63  34901241\n"
     ]
    }
   ],
   "source": [
    "rem_col('OpenInt',df)\n",
    "print(df.head())"
   ]
  },
  {
   "cell_type": "markdown",
   "id": "8ae80210",
   "metadata": {},
   "source": [
    "now we add the columns of averages and volatility"
   ]
  },
  {
   "cell_type": "code",
   "execution_count": 98,
   "id": "88b80e08",
   "metadata": {},
   "outputs": [
    {
     "data": {
      "text/html": [
       "<div>\n",
       "<style scoped>\n",
       "    .dataframe tbody tr th:only-of-type {\n",
       "        vertical-align: middle;\n",
       "    }\n",
       "\n",
       "    .dataframe tbody tr th {\n",
       "        vertical-align: top;\n",
       "    }\n",
       "\n",
       "    .dataframe thead th {\n",
       "        text-align: right;\n",
       "    }\n",
       "</style>\n",
       "<table border=\"1\" class=\"dataframe\">\n",
       "  <thead>\n",
       "    <tr style=\"text-align: right;\">\n",
       "      <th></th>\n",
       "      <th></th>\n",
       "      <th>Open</th>\n",
       "      <th>High</th>\n",
       "      <th>Low</th>\n",
       "      <th>Close</th>\n",
       "      <th>Volume</th>\n",
       "      <th>Daily_Return</th>\n",
       "      <th>7_day_avg</th>\n",
       "      <th>30_day_avg</th>\n",
       "      <th>30_day_rolling_volatility</th>\n",
       "    </tr>\n",
       "    <tr>\n",
       "      <th>TICKER</th>\n",
       "      <th>Date</th>\n",
       "      <th></th>\n",
       "      <th></th>\n",
       "      <th></th>\n",
       "      <th></th>\n",
       "      <th></th>\n",
       "      <th></th>\n",
       "      <th></th>\n",
       "      <th></th>\n",
       "      <th></th>\n",
       "    </tr>\n",
       "  </thead>\n",
       "  <tbody>\n",
       "    <tr>\n",
       "      <th rowspan=\"5\" valign=\"top\">AAPL</th>\n",
       "      <th>2017-11-10</th>\n",
       "      <td>175.11</td>\n",
       "      <td>175.38</td>\n",
       "      <td>174.27</td>\n",
       "      <td>174.67</td>\n",
       "      <td>25130494</td>\n",
       "      <td>-0.003310</td>\n",
       "      <td>173.247143</td>\n",
       "      <td>161.285333</td>\n",
       "      <td>0.011503</td>\n",
       "    </tr>\n",
       "    <tr>\n",
       "      <th>2017-11-09</th>\n",
       "      <td>174.48</td>\n",
       "      <td>175.46</td>\n",
       "      <td>172.52</td>\n",
       "      <td>175.25</td>\n",
       "      <td>29533086</td>\n",
       "      <td>-0.002050</td>\n",
       "      <td>172.050000</td>\n",
       "      <td>160.582000</td>\n",
       "      <td>0.011412</td>\n",
       "    </tr>\n",
       "    <tr>\n",
       "      <th>2017-11-08</th>\n",
       "      <td>174.03</td>\n",
       "      <td>175.61</td>\n",
       "      <td>173.71</td>\n",
       "      <td>175.61</td>\n",
       "      <td>24451166</td>\n",
       "      <td>0.008210</td>\n",
       "      <td>171.075714</td>\n",
       "      <td>159.831333</td>\n",
       "      <td>0.011520</td>\n",
       "    </tr>\n",
       "    <tr>\n",
       "      <th>2017-11-07</th>\n",
       "      <td>173.29</td>\n",
       "      <td>174.51</td>\n",
       "      <td>173.29</td>\n",
       "      <td>174.18</td>\n",
       "      <td>24424877</td>\n",
       "      <td>0.003168</td>\n",
       "      <td>169.720000</td>\n",
       "      <td>159.100333</td>\n",
       "      <td>0.011510</td>\n",
       "    </tr>\n",
       "    <tr>\n",
       "      <th>2017-11-06</th>\n",
       "      <td>171.75</td>\n",
       "      <td>174.36</td>\n",
       "      <td>171.10</td>\n",
       "      <td>173.63</td>\n",
       "      <td>34901241</td>\n",
       "      <td>0.010182</td>\n",
       "      <td>168.047143</td>\n",
       "      <td>158.380667</td>\n",
       "      <td>0.011738</td>\n",
       "    </tr>\n",
       "    <tr>\n",
       "      <th>...</th>\n",
       "      <th>...</th>\n",
       "      <td>...</td>\n",
       "      <td>...</td>\n",
       "      <td>...</td>\n",
       "      <td>...</td>\n",
       "      <td>...</td>\n",
       "      <td>...</td>\n",
       "      <td>...</td>\n",
       "      <td>...</td>\n",
       "      <td>...</td>\n",
       "    </tr>\n",
       "    <tr>\n",
       "      <th rowspan=\"5\" valign=\"top\">TSLA</th>\n",
       "      <th>2010-07-02</th>\n",
       "      <td>23.00</td>\n",
       "      <td>23.10</td>\n",
       "      <td>18.71</td>\n",
       "      <td>19.20</td>\n",
       "      <td>5141807</td>\n",
       "      <td>-0.125683</td>\n",
       "      <td>NaN</td>\n",
       "      <td>NaN</td>\n",
       "      <td>NaN</td>\n",
       "    </tr>\n",
       "    <tr>\n",
       "      <th>2010-07-01</th>\n",
       "      <td>25.00</td>\n",
       "      <td>25.92</td>\n",
       "      <td>20.27</td>\n",
       "      <td>21.96</td>\n",
       "      <td>8229863</td>\n",
       "      <td>-0.078473</td>\n",
       "      <td>NaN</td>\n",
       "      <td>NaN</td>\n",
       "      <td>NaN</td>\n",
       "    </tr>\n",
       "    <tr>\n",
       "      <th>2010-06-30</th>\n",
       "      <td>25.79</td>\n",
       "      <td>30.42</td>\n",
       "      <td>23.30</td>\n",
       "      <td>23.83</td>\n",
       "      <td>17194394</td>\n",
       "      <td>-0.002512</td>\n",
       "      <td>NaN</td>\n",
       "      <td>NaN</td>\n",
       "      <td>NaN</td>\n",
       "    </tr>\n",
       "    <tr>\n",
       "      <th>2010-06-29</th>\n",
       "      <td>19.00</td>\n",
       "      <td>25.00</td>\n",
       "      <td>17.54</td>\n",
       "      <td>23.89</td>\n",
       "      <td>18783276</td>\n",
       "      <td>0.405294</td>\n",
       "      <td>NaN</td>\n",
       "      <td>NaN</td>\n",
       "      <td>NaN</td>\n",
       "    </tr>\n",
       "    <tr>\n",
       "      <th>2010-06-28</th>\n",
       "      <td>17.00</td>\n",
       "      <td>17.00</td>\n",
       "      <td>17.00</td>\n",
       "      <td>17.00</td>\n",
       "      <td>0</td>\n",
       "      <td>NaN</td>\n",
       "      <td>NaN</td>\n",
       "      <td>NaN</td>\n",
       "      <td>NaN</td>\n",
       "    </tr>\n",
       "  </tbody>\n",
       "</table>\n",
       "<p>14447 rows × 9 columns</p>\n",
       "</div>"
      ],
      "text/plain": [
       "                     Open    High     Low   Close    Volume  Daily_Return  \\\n",
       "TICKER Date                                                                 \n",
       "AAPL   2017-11-10  175.11  175.38  174.27  174.67  25130494     -0.003310   \n",
       "       2017-11-09  174.48  175.46  172.52  175.25  29533086     -0.002050   \n",
       "       2017-11-08  174.03  175.61  173.71  175.61  24451166      0.008210   \n",
       "       2017-11-07  173.29  174.51  173.29  174.18  24424877      0.003168   \n",
       "       2017-11-06  171.75  174.36  171.10  173.63  34901241      0.010182   \n",
       "...                   ...     ...     ...     ...       ...           ...   \n",
       "TSLA   2010-07-02   23.00   23.10   18.71   19.20   5141807     -0.125683   \n",
       "       2010-07-01   25.00   25.92   20.27   21.96   8229863     -0.078473   \n",
       "       2010-06-30   25.79   30.42   23.30   23.83  17194394     -0.002512   \n",
       "       2010-06-29   19.00   25.00   17.54   23.89  18783276      0.405294   \n",
       "       2010-06-28   17.00   17.00   17.00   17.00         0           NaN   \n",
       "\n",
       "                    7_day_avg  30_day_avg  30_day_rolling_volatility  \n",
       "TICKER Date                                                           \n",
       "AAPL   2017-11-10  173.247143  161.285333                   0.011503  \n",
       "       2017-11-09  172.050000  160.582000                   0.011412  \n",
       "       2017-11-08  171.075714  159.831333                   0.011520  \n",
       "       2017-11-07  169.720000  159.100333                   0.011510  \n",
       "       2017-11-06  168.047143  158.380667                   0.011738  \n",
       "...                       ...         ...                        ...  \n",
       "TSLA   2010-07-02         NaN         NaN                        NaN  \n",
       "       2010-07-01         NaN         NaN                        NaN  \n",
       "       2010-06-30         NaN         NaN                        NaN  \n",
       "       2010-06-29         NaN         NaN                        NaN  \n",
       "       2010-06-28         NaN         NaN                        NaN  \n",
       "\n",
       "[14447 rows x 9 columns]"
      ]
     },
     "execution_count": 98,
     "metadata": {},
     "output_type": "execute_result"
    }
   ],
   "source": [
    "add_dailyReturn(df)\n",
    "add_7day_avg(df)\n",
    "add_30day_avg(df)\n",
    "add_30dayRollingVolatitility(df)"
   ]
  },
  {
   "cell_type": "markdown",
   "id": "1de98733",
   "metadata": {},
   "source": [
    "Highest average return"
   ]
  },
  {
   "cell_type": "code",
   "execution_count": 99,
   "id": "8f80da0e",
   "metadata": {},
   "outputs": [
    {
     "name": "stdout",
     "output_type": "stream",
     "text": [
      "TICKER\n",
      "AAPL     0.001022\n",
      "BRK-B    0.000388\n",
      "GOOGL    0.000627\n",
      "MSFT     0.000577\n",
      "NVDA     0.001239\n",
      "TSLA     0.002101\n",
      "Name: Daily_Return, dtype: float64\n",
      "Highest average return stock: TSLA with avg return of 0.0021 or 0.21%\n"
     ]
    }
   ],
   "source": [
    "highestAvgReturn(df)"
   ]
  },
  {
   "cell_type": "code",
   "execution_count": 100,
   "id": "4de46add",
   "metadata": {},
   "outputs": [
    {
     "name": "stdout",
     "output_type": "stream",
     "text": [
      "Most volatile stock: NVDA in 2008-11 with volatility of 0.0762 or 7.62%\n"
     ]
    }
   ],
   "source": [
    "highestVolatility(df)"
   ]
  },
  {
   "cell_type": "code",
   "execution_count": 105,
   "id": "58a382f5",
   "metadata": {},
   "outputs": [
    {
     "name": "stdout",
     "output_type": "stream",
     "text": [
      "Last dates for each ticker:\n",
      "TICKER\n",
      "AAPL    2007-11-13\n",
      "BRK-B   2007-11-13\n",
      "GOOGL   2007-11-13\n",
      "MSFT    2007-11-13\n",
      "NVDA    2007-11-13\n",
      "TSLA    2010-06-28\n",
      "dtype: datetime64[ns]\n"
     ]
    }
   ],
   "source": [
    "last_dates=df.groupby(level='TICKER').apply(lambda x: x.index.get_level_values('Date').min())\n",
    "print(\"Last dates for each ticker:\")\n",
    "print(last_dates)"
   ]
  }
 ],
 "metadata": {
  "kernelspec": {
   "display_name": "Python 3",
   "language": "python",
   "name": "python3"
  },
  "language_info": {
   "codemirror_mode": {
    "name": "ipython",
    "version": 3
   },
   "file_extension": ".py",
   "mimetype": "text/x-python",
   "name": "python",
   "nbconvert_exporter": "python",
   "pygments_lexer": "ipython3",
   "version": "3.13.2"
  }
 },
 "nbformat": 4,
 "nbformat_minor": 5
}
